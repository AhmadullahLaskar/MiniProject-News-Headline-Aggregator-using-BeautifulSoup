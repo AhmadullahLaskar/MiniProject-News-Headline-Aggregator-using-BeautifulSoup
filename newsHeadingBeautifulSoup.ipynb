{
  "nbformat": 4,
  "nbformat_minor": 0,
  "metadata": {
    "colab": {
      "provenance": [],
      "mount_file_id": "1HvM-lvk_Ym6h_mWg5jaQNrLoKlRlIFow",
      "authorship_tag": "ABX9TyMEtdnKGnrQpRcIqnubDUNE",
      "include_colab_link": true
    },
    "kernelspec": {
      "name": "python3",
      "display_name": "Python 3"
    },
    "language_info": {
      "name": "python"
    }
  },
  "cells": [
    {
      "cell_type": "markdown",
      "metadata": {
        "id": "view-in-github",
        "colab_type": "text"
      },
      "source": [
        "<a href=\"https://colab.research.google.com/github/AhmadullahLaskar/AhmadullahLaskar/blob/main/newsHeadingBeautifulSoup.ipynb\" target=\"_parent\"><img src=\"https://colab.research.google.com/assets/colab-badge.svg\" alt=\"Open In Colab\"/></a>"
      ]
    },
    {
      "cell_type": "code",
      "execution_count": null,
      "metadata": {
        "id": "F3RSKFauC9bw"
      },
      "outputs": [],
      "source": [
        "import requests\n",
        "from bs4 import BeautifulSoup\n",
        "import csv\n",
        "\n",
        "url = 'https://www.bbc.com/news'\n",
        "headers = {'User-Agent': 'Mozilla/5.0'}\n",
        "response = requests.get(url, headers=headers)\n",
        "soup = BeautifulSoup(response.text, 'html.parser')\n",
        "\n",
        "# BBC uses classes like \"gs-c-promo-heading__title\"\n",
        "headlines = soup.find_all('h3', class_='gs-c-promo-heading__title')\n",
        "\n",
        "with open('bbc_headlines.csv', 'w', newline='', encoding='utf-8') as file:\n",
        "    writer = csv.writer(file)\n",
        "    writer.writerow(['Headline'])\n",
        "    for h in headlines:\n",
        "        if h.text.strip():\n",
        "            writer.writerow([h.text.strip()])\n"
      ]
    }
  ]
}
